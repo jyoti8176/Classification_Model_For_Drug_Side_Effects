{
 "cells": [
  {
   "cell_type": "markdown",
   "metadata": {
    "id": "c8CBlC36MYFo"
   },
   "source": [
    "# **I. Analytic Libraries**"
   ]
  },
  {
   "cell_type": "markdown",
   "metadata": {
    "id": "BF8-jAYmgokV"
   },
   "source": [
    "**Importing the Libraries**"
   ]
  },
  {
   "cell_type": "code",
   "execution_count": 1,
   "metadata": {
    "id": "xbTe03xcfnAL"
   },
   "outputs": [],
   "source": [
    "# Analysis tools\n",
    "import numpy as np\n",
    "import pandas as pd\n",
    "import warnings\n",
    "warnings.filterwarnings(\"ignore\", category=UserWarning, module='bs4')"
   ]
  },
  {
   "cell_type": "code",
   "execution_count": 2,
   "metadata": {
    "id": "dWjaWK_0Ak9N"
   },
   "outputs": [],
   "source": [
    "# Visualization tools\n",
    "import matplotlib.pyplot as plt\n",
    "import seaborn as sns\n",
    "import plotly.graph_objs as go\n",
    "from plotly import tools\n",
    "import plotly.offline as py"
   ]
  },
  {
   "cell_type": "code",
   "execution_count": 3,
   "metadata": {},
   "outputs": [],
   "source": [
    "# Machine Learning Classification tools\n",
    "from sklearn.linear_model import LogisticRegression\n",
    "from sklearn.tree import DecisionTreeClassifier\n",
    "from sklearn.neighbors import KNeighborsClassifier\n",
    "from sklearn.linear_model import SGDClassifier\n",
    "from sklearn.naive_bayes import GaussianNB\n",
    "from sklearn.svm import SVC\n",
    "from sklearn.ensemble import RandomForestClassifier\n",
    "from sklearn.metrics import accuracy_score\n",
    "from sklearn.metrics import classification_report\n",
    "from sklearn.metrics import confusion_matrix\n",
    "from sklearn.model_selection import train_test_split\n",
    "from sklearn.preprocessing import MinMaxScaler"
   ]
  },
  {
   "cell_type": "markdown",
   "metadata": {
    "id": "znywIDyigZqw"
   },
   "source": [
    "# **II. Dataset**"
   ]
  },
  {
   "cell_type": "markdown",
   "metadata": {
    "id": "iHheM4JGtusC"
   },
   "source": [
    "**1. Loading the Dataset**"
   ]
  },
  {
   "cell_type": "markdown",
   "metadata": {
    "id": "jV09eVYn11BX"
   },
   "source": [
    "Loading the datset into a dataframe"
   ]
  },
  {
   "cell_type": "code",
   "execution_count": 4,
   "metadata": {
    "id": "SCe3OuJugKRp"
   },
   "outputs": [],
   "source": [
    "data=pd.read_csv(\"./dataset.csv\")"
   ]
  },
  {
   "cell_type": "markdown",
   "metadata": {
    "id": "J6O5gBNGjoj5"
   },
   "source": [
    "**2. Data Exploration**"
   ]
  },
  {
   "cell_type": "markdown",
   "metadata": {
    "id": "_RDxePzP1-Vz"
   },
   "source": [
    "Exploring the dataset and variables for better understanding"
   ]
  },
  {
   "cell_type": "code",
   "execution_count": 5,
   "metadata": {
    "colab": {
     "base_uri": "https://localhost:8080/",
     "height": 206
    },
    "id": "LVSqPA9SgTLC",
    "outputId": "b67e9ad6-cd1c-4cc8-bac0-b55be98398ab"
   },
   "outputs": [
    {
     "data": {
      "text/html": [
       "<div>\n",
       "<style scoped>\n",
       "    .dataframe tbody tr th:only-of-type {\n",
       "        vertical-align: middle;\n",
       "    }\n",
       "\n",
       "    .dataframe tbody tr th {\n",
       "        vertical-align: top;\n",
       "    }\n",
       "\n",
       "    .dataframe thead th {\n",
       "        text-align: right;\n",
       "    }\n",
       "</style>\n",
       "<table border=\"1\" class=\"dataframe\">\n",
       "  <thead>\n",
       "    <tr style=\"text-align: right;\">\n",
       "      <th></th>\n",
       "      <th>Name</th>\n",
       "      <th>Age</th>\n",
       "      <th>Gender</th>\n",
       "      <th>Race</th>\n",
       "      <th>SideEffects</th>\n",
       "    </tr>\n",
       "  </thead>\n",
       "  <tbody>\n",
       "    <tr>\n",
       "      <th>0</th>\n",
       "      <td>Dakota Soto</td>\n",
       "      <td>62</td>\n",
       "      <td>M</td>\n",
       "      <td>Hawaiian</td>\n",
       "      <td>Headache</td>\n",
       "    </tr>\n",
       "    <tr>\n",
       "      <th>1</th>\n",
       "      <td>Rachael Rubio</td>\n",
       "      <td>69</td>\n",
       "      <td>F</td>\n",
       "      <td>Black</td>\n",
       "      <td>Yellow Skin</td>\n",
       "    </tr>\n",
       "    <tr>\n",
       "      <th>2</th>\n",
       "      <td>Heather Giles</td>\n",
       "      <td>47</td>\n",
       "      <td>M</td>\n",
       "      <td>White</td>\n",
       "      <td>Vomiting</td>\n",
       "    </tr>\n",
       "    <tr>\n",
       "      <th>3</th>\n",
       "      <td>Russell Malone</td>\n",
       "      <td>82</td>\n",
       "      <td>M</td>\n",
       "      <td>Black</td>\n",
       "      <td>Allergic Reaction</td>\n",
       "    </tr>\n",
       "    <tr>\n",
       "      <th>4</th>\n",
       "      <td>Tina Quinn</td>\n",
       "      <td>76</td>\n",
       "      <td>M</td>\n",
       "      <td>Hawaiian</td>\n",
       "      <td>Headache</td>\n",
       "    </tr>\n",
       "  </tbody>\n",
       "</table>\n",
       "</div>"
      ],
      "text/plain": [
       "             Name  Age Gender      Race        SideEffects\n",
       "0     Dakota Soto   62      M  Hawaiian           Headache\n",
       "1   Rachael Rubio   69      F     Black        Yellow Skin\n",
       "2   Heather Giles   47      M     White           Vomiting\n",
       "3  Russell Malone   82      M     Black  Allergic Reaction\n",
       "4      Tina Quinn   76      M  Hawaiian           Headache"
      ]
     },
     "execution_count": 5,
     "metadata": {},
     "output_type": "execute_result"
    }
   ],
   "source": [
    "# First five rows\n",
    "data.head()"
   ]
  },
  {
   "cell_type": "code",
   "execution_count": 6,
   "metadata": {
    "colab": {
     "base_uri": "https://localhost:8080/",
     "height": 206
    },
    "id": "fefG5dekgUrx",
    "outputId": "bc0c2b8f-d854-499e-cd36-9fafa3fd10ec",
    "scrolled": true
   },
   "outputs": [
    {
     "data": {
      "text/html": [
       "<div>\n",
       "<style scoped>\n",
       "    .dataframe tbody tr th:only-of-type {\n",
       "        vertical-align: middle;\n",
       "    }\n",
       "\n",
       "    .dataframe tbody tr th {\n",
       "        vertical-align: top;\n",
       "    }\n",
       "\n",
       "    .dataframe thead th {\n",
       "        text-align: right;\n",
       "    }\n",
       "</style>\n",
       "<table border=\"1\" class=\"dataframe\">\n",
       "  <thead>\n",
       "    <tr style=\"text-align: right;\">\n",
       "      <th></th>\n",
       "      <th>Name</th>\n",
       "      <th>Age</th>\n",
       "      <th>Gender</th>\n",
       "      <th>Race</th>\n",
       "      <th>SideEffects</th>\n",
       "    </tr>\n",
       "  </thead>\n",
       "  <tbody>\n",
       "    <tr>\n",
       "      <th>399995</th>\n",
       "      <td>Aaron Frey</td>\n",
       "      <td>77</td>\n",
       "      <td>F</td>\n",
       "      <td>American</td>\n",
       "      <td>Allergic Reaction</td>\n",
       "    </tr>\n",
       "    <tr>\n",
       "      <th>399996</th>\n",
       "      <td>Zoe Garcia</td>\n",
       "      <td>66</td>\n",
       "      <td>M</td>\n",
       "      <td>White</td>\n",
       "      <td>Stomach Ache</td>\n",
       "    </tr>\n",
       "    <tr>\n",
       "      <th>399997</th>\n",
       "      <td>Roger Berry</td>\n",
       "      <td>29</td>\n",
       "      <td>F</td>\n",
       "      <td>Asian</td>\n",
       "      <td>Diarrhoea</td>\n",
       "    </tr>\n",
       "    <tr>\n",
       "      <th>399998</th>\n",
       "      <td>Charles Espinoza</td>\n",
       "      <td>81</td>\n",
       "      <td>F</td>\n",
       "      <td>Hawaiian</td>\n",
       "      <td>Diarrhoea</td>\n",
       "    </tr>\n",
       "    <tr>\n",
       "      <th>399999</th>\n",
       "      <td>Jean Swanson</td>\n",
       "      <td>-22</td>\n",
       "      <td>F</td>\n",
       "      <td>American</td>\n",
       "      <td>Vomiting</td>\n",
       "    </tr>\n",
       "  </tbody>\n",
       "</table>\n",
       "</div>"
      ],
      "text/plain": [
       "                    Name  Age Gender      Race        SideEffects\n",
       "399995        Aaron Frey   77      F  American  Allergic Reaction\n",
       "399996        Zoe Garcia   66      M     White       Stomach Ache\n",
       "399997       Roger Berry   29      F     Asian          Diarrhoea\n",
       "399998  Charles Espinoza   81      F  Hawaiian          Diarrhoea\n",
       "399999      Jean Swanson  -22      F  American           Vomiting"
      ]
     },
     "execution_count": 6,
     "metadata": {},
     "output_type": "execute_result"
    }
   ],
   "source": [
    "# Last five rows\n",
    "data.tail()"
   ]
  },
  {
   "cell_type": "code",
   "execution_count": 7,
   "metadata": {
    "colab": {
     "base_uri": "https://localhost:8080/"
    },
    "id": "1LrEs2PngWH6",
    "outputId": "b06c4607-7fbf-43b4-e43e-5bef92e02479"
   },
   "outputs": [
    {
     "data": {
      "text/plain": [
       "Index(['Name', 'Age', 'Gender', 'Race', 'SideEffects'], dtype='object')"
      ]
     },
     "execution_count": 7,
     "metadata": {},
     "output_type": "execute_result"
    }
   ],
   "source": [
    "# Columns\n",
    "data.columns"
   ]
  },
  {
   "cell_type": "code",
   "execution_count": 8,
   "metadata": {
    "colab": {
     "base_uri": "https://localhost:8080/"
    },
    "id": "o9UvZpntgX9y",
    "outputId": "10b8c2ce-4a13-4214-dd5b-b14f653c1d7c"
   },
   "outputs": [
    {
     "data": {
      "text/plain": [
       "(400000, 5)"
      ]
     },
     "execution_count": 8,
     "metadata": {},
     "output_type": "execute_result"
    }
   ],
   "source": [
    "# Rows and columns\n",
    "data.shape"
   ]
  },
  {
   "cell_type": "code",
   "execution_count": 9,
   "metadata": {
    "colab": {
     "base_uri": "https://localhost:8080/"
    },
    "id": "_KTExkTSZ_bP",
    "outputId": "189d5a2f-526e-482a-d919-90f9cd081049"
   },
   "outputs": [
    {
     "data": {
      "text/plain": [
       "Name           object\n",
       "Age             int64\n",
       "Gender         object\n",
       "Race           object\n",
       "SideEffects    object\n",
       "dtype: object"
      ]
     },
     "execution_count": 9,
     "metadata": {},
     "output_type": "execute_result"
    }
   ],
   "source": [
    "# Datatypes\n",
    "data.dtypes"
   ]
  },
  {
   "cell_type": "code",
   "execution_count": 10,
   "metadata": {
    "colab": {
     "base_uri": "https://localhost:8080/"
    },
    "id": "4b-fZfgNgdQ_",
    "outputId": "a8e24116-73cb-419d-a1ee-7a2dae8f232d"
   },
   "outputs": [
    {
     "name": "stdout",
     "output_type": "stream",
     "text": [
      "<class 'pandas.core.frame.DataFrame'>\n",
      "RangeIndex: 400000 entries, 0 to 399999\n",
      "Data columns (total 5 columns):\n",
      " #   Column       Non-Null Count   Dtype \n",
      "---  ------       --------------   ----- \n",
      " 0   Name         400000 non-null  object\n",
      " 1   Age          400000 non-null  int64 \n",
      " 2   Gender       399988 non-null  object\n",
      " 3   Race         399965 non-null  object\n",
      " 4   SideEffects  399923 non-null  object\n",
      "dtypes: int64(1), object(4)\n",
      "memory usage: 15.3+ MB\n"
     ]
    }
   ],
   "source": [
    "# More information about data\n",
    "data.info()"
   ]
  },
  {
   "cell_type": "markdown",
   "metadata": {
    "id": "iAuOeyGUTsKC"
   },
   "source": [
    "Observation: Datatypes of 'Gender', 'Race' and 'SideEffects' contains null and need to be processed"
   ]
  },
  {
   "cell_type": "code",
   "execution_count": 11,
   "metadata": {
    "colab": {
     "base_uri": "https://localhost:8080/"
    },
    "id": "RSSfOduhgaGG",
    "outputId": "19a937b0-d2f8-467f-bfae-c088c1498483"
   },
   "outputs": [
    {
     "data": {
      "text/plain": [
       "Name            0\n",
       "Age             0\n",
       "Gender         12\n",
       "Race           35\n",
       "SideEffects    77\n",
       "dtype: int64"
      ]
     },
     "execution_count": 11,
     "metadata": {},
     "output_type": "execute_result"
    }
   ],
   "source": [
    "# Null value count\n",
    "data.isnull().sum()"
   ]
  },
  {
   "cell_type": "markdown",
   "metadata": {
    "id": "bmD7LztuT51T"
   },
   "source": [
    "Observation: 'Gender', 'Race' and 'SideEffects' contains missing data"
   ]
  },
  {
   "cell_type": "code",
   "execution_count": 12,
   "metadata": {
    "colab": {
     "base_uri": "https://localhost:8080/"
    },
    "id": "ZtQQk_ciqxw7",
    "outputId": "9e988ed6-9919-47cf-f3a0-3f98f0838825"
   },
   "outputs": [
    {
     "name": "stdout",
     "output_type": "stream",
     "text": [
      "Name : 399988 \n",
      "\n",
      "Age : 86 \n",
      "\n",
      "Gender : 2 \n",
      "\n",
      "Race : 6 \n",
      "\n",
      "SideEffects : 9 \n",
      "\n"
     ]
    }
   ],
   "source": [
    "# Unique value count\n",
    "for i in data.columns:\n",
    "    print(i,':',data[i].nunique(),'\\n')"
   ]
  },
  {
   "cell_type": "markdown",
   "metadata": {
    "id": "UrImsp5OdBAm"
   },
   "source": [
    "Observation: 'Gender' has 2, 'Race' has 6 and 'SideEffects' has 9 categories"
   ]
  },
  {
   "cell_type": "markdown",
   "metadata": {
    "id": "dPyIMtSJcufE"
   },
   "source": [
    "# **III. Data Preprocessing**"
   ]
  },
  {
   "cell_type": "markdown",
   "metadata": {
    "id": "Nw_7Luy_2Fmy"
   },
   "source": [
    "Cleaning irrelevant data, missing data, data with inconsistent datatypes etc"
   ]
  },
  {
   "cell_type": "markdown",
   "metadata": {},
   "source": [
    "**1. Handling Duplicates**"
   ]
  },
  {
   "cell_type": "code",
   "execution_count": 13,
   "metadata": {},
   "outputs": [
    {
     "data": {
      "text/plain": [
       "12"
      ]
     },
     "execution_count": 13,
     "metadata": {},
     "output_type": "execute_result"
    }
   ],
   "source": [
    "# Show duplicate rows\n",
    "data.duplicated().sum()"
   ]
  },
  {
   "cell_type": "code",
   "execution_count": 14,
   "metadata": {},
   "outputs": [],
   "source": [
    "# Remove duplicates\n",
    "data = data.drop_duplicates()"
   ]
  },
  {
   "cell_type": "markdown",
   "metadata": {
    "id": "-8vJvzm0dlNs"
   },
   "source": [
    "**2. Handling Whitespaces**"
   ]
  },
  {
   "cell_type": "code",
   "execution_count": 15,
   "metadata": {
    "id": "xsLtuwz_TQEP"
   },
   "outputs": [],
   "source": [
    "# Handling instances with whitespaces\n",
    "for i in data:\n",
    "    data[i]=np.where(data[i]==\" \",np.NAN,data[i])"
   ]
  },
  {
   "cell_type": "markdown",
   "metadata": {
    "id": "-wnTbalwdpRu"
   },
   "source": [
    "**3. Handling Missing values**"
   ]
  },
  {
   "cell_type": "code",
   "execution_count": 16,
   "metadata": {
    "colab": {
     "base_uri": "https://localhost:8080/"
    },
    "id": "J_137ePwZdDB",
    "outputId": "5f30d027-4f0b-449d-efc7-336310f8ffde"
   },
   "outputs": [
    {
     "data": {
      "text/plain": [
       "Name            0\n",
       "Age             0\n",
       "Gender         12\n",
       "Race           35\n",
       "SideEffects    77\n",
       "dtype: int64"
      ]
     },
     "execution_count": 16,
     "metadata": {},
     "output_type": "execute_result"
    }
   ],
   "source": [
    "# Null value count\n",
    "data.isnull().sum()"
   ]
  },
  {
   "cell_type": "markdown",
   "metadata": {
    "id": "et94aOGIAz6N"
   },
   "source": [
    "Null Value count: This bar plot shows the null value count of each feature."
   ]
  },
  {
   "cell_type": "code",
   "execution_count": 17,
   "metadata": {
    "colab": {
     "base_uri": "https://localhost:8080/",
     "height": 492
    },
    "id": "Jlv04QdQAz6O",
    "outputId": "0f36a450-362c-4b12-baf3-e71d09afe4c2"
   },
   "outputs": [
    {
     "data": {
      "text/plain": [
       "Text(0.5, 1.0, 'Total Missing Value ')"
      ]
     },
     "execution_count": 17,
     "metadata": {},
     "output_type": "execute_result"
    },
    {
     "data": {
      "image/png": "[encoded data removed]",
      "text/plain": [
       "<Figure size 1400x600 with 1 Axes>"
      ]
     },
     "metadata": {},
     "output_type": "display_data"
    }
   ],
   "source": [
    "percent = (data.isnull().sum()).sort_values(ascending=False)\n",
    "percent.plot(kind=\"bar\", figsize = (14,6), fontsize = 10, color='Green')\n",
    "plt.xlabel(\"Columns\", fontsize = 20)\n",
    "plt.ylabel(\"\", fontsize = 20)\n",
    "plt.title(\"Total Missing Value \", fontsize = 20)"
   ]
  },
  {
   "cell_type": "markdown",
   "metadata": {
    "id": "mQ-ESS3bdXwv"
   },
   "source": [
    "Observation: 'Age', 'Gender', 'SideEffects' have missing data"
   ]
  },
  {
   "cell_type": "code",
   "execution_count": 18,
   "metadata": {
    "id": "2e21O5fmZdC3"
   },
   "outputs": [],
   "source": [
    "# Removing rows with null data\n",
    "data=data.dropna(axis=0)"
   ]
  },
  {
   "cell_type": "code",
   "execution_count": 19,
   "metadata": {},
   "outputs": [
    {
     "data": {
      "text/plain": [
       "Name           0\n",
       "Age            0\n",
       "Gender         0\n",
       "Race           0\n",
       "SideEffects    0\n",
       "dtype: int64"
      ]
     },
     "execution_count": 19,
     "metadata": {},
     "output_type": "execute_result"
    }
   ],
   "source": [
    "# Null value count\n",
    "data.isnull().sum()"
   ]
  },
  {
   "cell_type": "markdown",
   "metadata": {
    "id": "vMULXWtwuNDz"
   },
   "source": [
    "**4. Handling invalid data**"
   ]
  },
  {
   "cell_type": "code",
   "execution_count": 20,
   "metadata": {},
   "outputs": [
    {
     "name": "stdout",
     "output_type": "stream",
     "text": [
      "Count of invalid ages :  25\n"
     ]
    }
   ],
   "source": [
    "# Check invalid ages\n",
    "invalid_age_count = (data['Age'] < 18).sum()\n",
    "print('Count of invalid ages : ', invalid_age_count)"
   ]
  },
  {
   "cell_type": "code",
   "execution_count": 21,
   "metadata": {},
   "outputs": [],
   "source": [
    "# Remove invalid age data\n",
    "data = data.loc[(data['Age'] >= 18) & (data['Age'] <= 90)]"
   ]
  },
  {
   "cell_type": "code",
   "execution_count": 22,
   "metadata": {},
   "outputs": [
    {
     "name": "stdout",
     "output_type": "stream",
     "text": [
      "SideEffects\n",
      "Allergic Reaction    71789\n",
      "Diarrhoea            26906\n",
      "Dizziness            20117\n",
      "Headache             76000\n",
      "Joint/Muscle Pain    42106\n",
      "Nausea               36711\n",
      "Stomach Ache         50825\n",
      "Vomiting             36515\n",
      "Yellow Skin          38917\n",
      "dtype: int64\n"
     ]
    }
   ],
   "source": [
    "print(data.groupby('SideEffects').size())"
   ]
  },
  {
   "cell_type": "code",
   "execution_count": 23,
   "metadata": {},
   "outputs": [
    {
     "data": {
      "image/png": "[encoded data removed]",
      "text/plain": [
       "<Figure size 640x480 with 1 Axes>"
      ]
     },
     "metadata": {},
     "output_type": "display_data"
    }
   ],
   "source": [
    "sns.countplot(data = data, y = 'SideEffects')\n",
    "plt.show()"
   ]
  },
  {
   "cell_type": "markdown",
   "metadata": {},
   "source": [
    "**5. Adding Data Labels**"
   ]
  },
  {
   "cell_type": "code",
   "execution_count": 24,
   "metadata": {},
   "outputs": [],
   "source": [
    "#gender\n",
    "genders = ['M', 'F']\n",
    "\n",
    "# races\n",
    "races = ['White', 'Hispanic', 'Black', 'Asian', 'American', 'Hawaiian']\n",
    "\n",
    "# side effects\n",
    "sideeffects = ['Dizziness','Headache','Nausea','Vomiting','Diarrhoea',\n",
    "               'Stomach Ache','Yellow Skin','Allergic Reaction', 'Joint/Muscle Pain']"
   ]
  },
  {
   "cell_type": "code",
   "execution_count": 25,
   "metadata": {},
   "outputs": [],
   "source": [
    "# Add Gender, Race and Side Effects Label Columns\n",
    "\n",
    "data['Gender_Label'] = data.apply(lambda row: genders.index(row.Gender)+1, axis = 1)\n",
    "data['Race_Label'] = data.apply(lambda row: races.index(row.Race)+1, axis = 1)\n",
    "data['SideEffects_Label'] = data.apply(lambda row: sideeffects.index(row.SideEffects)+1, axis = 1)\n"
   ]
  },
  {
   "cell_type": "code",
   "execution_count": 26,
   "metadata": {},
   "outputs": [
    {
     "data": {
      "text/html": [
       "<div>\n",
       "<style scoped>\n",
       "    .dataframe tbody tr th:only-of-type {\n",
       "        vertical-align: middle;\n",
       "    }\n",
       "\n",
       "    .dataframe tbody tr th {\n",
       "        vertical-align: top;\n",
       "    }\n",
       "\n",
       "    .dataframe thead th {\n",
       "        text-align: right;\n",
       "    }\n",
       "</style>\n",
       "<table border=\"1\" class=\"dataframe\">\n",
       "  <thead>\n",
       "    <tr style=\"text-align: right;\">\n",
       "      <th></th>\n",
       "      <th>Name</th>\n",
       "      <th>Age</th>\n",
       "      <th>Gender</th>\n",
       "      <th>Race</th>\n",
       "      <th>SideEffects</th>\n",
       "      <th>Gender_Label</th>\n",
       "      <th>Race_Label</th>\n",
       "      <th>SideEffects_Label</th>\n",
       "    </tr>\n",
       "  </thead>\n",
       "  <tbody>\n",
       "    <tr>\n",
       "      <th>0</th>\n",
       "      <td>Dakota Soto</td>\n",
       "      <td>62.0</td>\n",
       "      <td>M</td>\n",
       "      <td>Hawaiian</td>\n",
       "      <td>Headache</td>\n",
       "      <td>1</td>\n",
       "      <td>6</td>\n",
       "      <td>2</td>\n",
       "    </tr>\n",
       "    <tr>\n",
       "      <th>1</th>\n",
       "      <td>Rachael Rubio</td>\n",
       "      <td>69.0</td>\n",
       "      <td>F</td>\n",
       "      <td>Black</td>\n",
       "      <td>Yellow Skin</td>\n",
       "      <td>2</td>\n",
       "      <td>3</td>\n",
       "      <td>7</td>\n",
       "    </tr>\n",
       "    <tr>\n",
       "      <th>2</th>\n",
       "      <td>Heather Giles</td>\n",
       "      <td>47.0</td>\n",
       "      <td>M</td>\n",
       "      <td>White</td>\n",
       "      <td>Vomiting</td>\n",
       "      <td>1</td>\n",
       "      <td>1</td>\n",
       "      <td>4</td>\n",
       "    </tr>\n",
       "    <tr>\n",
       "      <th>3</th>\n",
       "      <td>Russell Malone</td>\n",
       "      <td>82.0</td>\n",
       "      <td>M</td>\n",
       "      <td>Black</td>\n",
       "      <td>Allergic Reaction</td>\n",
       "      <td>1</td>\n",
       "      <td>3</td>\n",
       "      <td>8</td>\n",
       "    </tr>\n",
       "    <tr>\n",
       "      <th>4</th>\n",
       "      <td>Tina Quinn</td>\n",
       "      <td>76.0</td>\n",
       "      <td>M</td>\n",
       "      <td>Hawaiian</td>\n",
       "      <td>Headache</td>\n",
       "      <td>1</td>\n",
       "      <td>6</td>\n",
       "      <td>2</td>\n",
       "    </tr>\n",
       "  </tbody>\n",
       "</table>\n",
       "</div>"
      ],
      "text/plain": [
       "             Name   Age Gender      Race        SideEffects  Gender_Label  \\\n",
       "0     Dakota Soto  62.0      M  Hawaiian           Headache             1   \n",
       "1   Rachael Rubio  69.0      F     Black        Yellow Skin             2   \n",
       "2   Heather Giles  47.0      M     White           Vomiting             1   \n",
       "3  Russell Malone  82.0      M     Black  Allergic Reaction             1   \n",
       "4      Tina Quinn  76.0      M  Hawaiian           Headache             1   \n",
       "\n",
       "   Race_Label  SideEffects_Label  \n",
       "0           6                  2  \n",
       "1           3                  7  \n",
       "2           1                  4  \n",
       "3           3                  8  \n",
       "4           6                  2  "
      ]
     },
     "execution_count": 26,
     "metadata": {},
     "output_type": "execute_result"
    }
   ],
   "source": [
    "data.head()"
   ]
  },
  {
   "cell_type": "code",
   "execution_count": 27,
   "metadata": {},
   "outputs": [],
   "source": [
    "# Resetting index\n",
    "data.reset_index(drop=True, inplace=True)"
   ]
  },
  {
   "cell_type": "code",
   "execution_count": 28,
   "metadata": {
    "colab": {
     "base_uri": "https://localhost:8080/"
    },
    "id": "QuYA5NsK8V-V",
    "outputId": "070e30aa-9fe3-4527-e5bc-43296903e599"
   },
   "outputs": [
    {
     "data": {
      "text/plain": [
       "(399886, 8)"
      ]
     },
     "execution_count": 28,
     "metadata": {},
     "output_type": "execute_result"
    }
   ],
   "source": [
    "data.shape"
   ]
  },
  {
   "cell_type": "markdown",
   "metadata": {
    "id": "dPyIMtSJcufE"
   },
   "source": [
    "# **IV. Analysis**"
   ]
  },
  {
   "cell_type": "markdown",
   "metadata": {},
   "source": [
    "**1. Prepare Train and Test Data**"
   ]
  },
  {
   "cell_type": "code",
   "execution_count": 31,
   "metadata": {},
   "outputs": [],
   "source": [
    "feature_names = ['Age', 'Gender_Label', 'Race_Label']\n",
    "X = data[feature_names]\n",
    "y = data['SideEffects_Label']"
   ]
  },
  {
   "cell_type": "code",
   "execution_count": 32,
   "metadata": {},
   "outputs": [],
   "source": [
    "# Create Training and Test Sets and Apply Scaling\n",
    "X_train, X_test, y_train, y_test = train_test_split(X, y, test_size=0.2, random_state=0)\n",
    "\n",
    "scaler = MinMaxScaler()\n",
    "X_train = scaler.fit_transform(X_train)\n",
    "X_test = scaler.transform(X_test)"
   ]
  },
  {
   "cell_type": "markdown",
   "metadata": {},
   "source": [
    "**2. Analyse Classifiers**"
   ]
  },
  {
   "cell_type": "markdown",
   "metadata": {},
   "source": [
    "**2.1 Logistic Regression**"
   ]
  },
  {
   "cell_type": "code",
   "execution_count": 33,
   "metadata": {},
   "outputs": [
    {
     "name": "stdout",
     "output_type": "stream",
     "text": [
      "              precision    recall  f1-score   support\n",
      "\n",
      "           1       0.34      0.38      0.36      4037\n",
      "           2       0.26      0.52      0.34     15188\n",
      "           3       0.00      0.00      0.00      7540\n",
      "           4       0.00      0.00      0.00      7277\n",
      "           5       0.35      0.69      0.46      5297\n",
      "           6       0.00      0.00      0.00     10136\n",
      "           7       0.01      0.00      0.01      7824\n",
      "           8       0.27      0.48      0.35     14320\n",
      "           9       0.09      0.06      0.07      8359\n",
      "\n",
      "    accuracy                           0.26     79978\n",
      "   macro avg       0.15      0.24      0.18     79978\n",
      "weighted avg       0.15      0.26      0.18     79978\n",
      "\n",
      "Accuracy of Logistic regression classifier on test set: 0.258033\n"
     ]
    },
    {
     "name": "stderr",
     "output_type": "stream",
     "text": [
      "C:\\Python310\\lib\\site-packages\\sklearn\\metrics\\_classification.py:1344: UndefinedMetricWarning:\n",
      "\n",
      "Precision and F-score are ill-defined and being set to 0.0 in labels with no predicted samples. Use `zero_division` parameter to control this behavior.\n",
      "\n",
      "C:\\Python310\\lib\\site-packages\\sklearn\\metrics\\_classification.py:1344: UndefinedMetricWarning:\n",
      "\n",
      "Precision and F-score are ill-defined and being set to 0.0 in labels with no predicted samples. Use `zero_division` parameter to control this behavior.\n",
      "\n",
      "C:\\Python310\\lib\\site-packages\\sklearn\\metrics\\_classification.py:1344: UndefinedMetricWarning:\n",
      "\n",
      "Precision and F-score are ill-defined and being set to 0.0 in labels with no predicted samples. Use `zero_division` parameter to control this behavior.\n",
      "\n"
     ]
    }
   ],
   "source": [
    "# Classifier: Logistic regression\n",
    "logreg = LogisticRegression()\n",
    "logreg.fit(X_train, y_train)\n",
    "\n",
    "# Predicting results using Test data set\n",
    "pred = logreg.predict(X_test)\n",
    "print(classification_report(y_test, pred))\n",
    "score = accuracy_score(pred,y_test)\n",
    "print('Accuracy of Logistic regression classifier on test set: {:.6f}'.format(score))"
   ]
  },
  {
   "cell_type": "markdown",
   "metadata": {},
   "source": [
    "**2.2 Naïve Bayes**"
   ]
  },
  {
   "cell_type": "code",
   "execution_count": 34,
   "metadata": {},
   "outputs": [
    {
     "name": "stdout",
     "output_type": "stream",
     "text": [
      "              precision    recall  f1-score   support\n",
      "\n",
      "           1       0.30      0.61      0.40      4037\n",
      "           2       0.23      0.41      0.30     15188\n",
      "           3       0.01      0.00      0.00      7540\n",
      "           4       0.01      0.00      0.00      7277\n",
      "           5       0.31      0.90      0.47      5297\n",
      "           6       0.00      0.00      0.00     10136\n",
      "           7       0.56      0.17      0.26      7824\n",
      "           8       0.30      0.46      0.36     14320\n",
      "           9       0.01      0.00      0.00      8359\n",
      "\n",
      "    accuracy                           0.27     79978\n",
      "   macro avg       0.19      0.28      0.20     79978\n",
      "weighted avg       0.19      0.27      0.20     79978\n",
      "\n",
      "Accuracy of GNB classifier on test set: 0.268036\n"
     ]
    }
   ],
   "source": [
    "# Classifier: Naïve Bayes\n",
    "gnb = GaussianNB()\n",
    "gnb.fit(X_train, y_train)\n",
    "\n",
    "# Predicting results using Test data set\n",
    "pred = gnb.predict(X_test)\n",
    "print(classification_report(y_test, pred))\n",
    "score = accuracy_score(pred,y_test)\n",
    "print('Accuracy of GNB classifier on test set: {:.6f}'.format(score))"
   ]
  },
  {
   "cell_type": "markdown",
   "metadata": {},
   "source": [
    "**2.3 Stochastic Gradient Descent**"
   ]
  },
  {
   "cell_type": "code",
   "execution_count": 35,
   "metadata": {},
   "outputs": [
    {
     "name": "stdout",
     "output_type": "stream",
     "text": [
      "              precision    recall  f1-score   support\n",
      "\n",
      "           1       0.00      0.00      0.00      4037\n",
      "           2       0.00      0.00      0.00     15188\n",
      "           3       0.16      0.22      0.19      7540\n",
      "           4       0.39      0.51      0.44      7277\n",
      "           5       0.00      0.00      0.00      5297\n",
      "           6       0.00      0.00      0.00     10136\n",
      "           7       0.47      0.33      0.39      7824\n",
      "           8       0.19      0.74      0.31     14320\n",
      "           9       0.00      0.00      0.00      8359\n",
      "\n",
      "    accuracy                           0.23     79978\n",
      "   macro avg       0.14      0.20      0.15     79978\n",
      "weighted avg       0.13      0.23      0.15     79978\n",
      "\n",
      "Accuracy of Stochastic Gradient Descent classifier on test set: 0.231439\n"
     ]
    },
    {
     "name": "stderr",
     "output_type": "stream",
     "text": [
      "C:\\Python310\\lib\\site-packages\\sklearn\\metrics\\_classification.py:1344: UndefinedMetricWarning:\n",
      "\n",
      "Precision and F-score are ill-defined and being set to 0.0 in labels with no predicted samples. Use `zero_division` parameter to control this behavior.\n",
      "\n",
      "C:\\Python310\\lib\\site-packages\\sklearn\\metrics\\_classification.py:1344: UndefinedMetricWarning:\n",
      "\n",
      "Precision and F-score are ill-defined and being set to 0.0 in labels with no predicted samples. Use `zero_division` parameter to control this behavior.\n",
      "\n",
      "C:\\Python310\\lib\\site-packages\\sklearn\\metrics\\_classification.py:1344: UndefinedMetricWarning:\n",
      "\n",
      "Precision and F-score are ill-defined and being set to 0.0 in labels with no predicted samples. Use `zero_division` parameter to control this behavior.\n",
      "\n"
     ]
    }
   ],
   "source": [
    "# Classifier: Stochastic Gradient Descent\n",
    "sdg = SGDClassifier()\n",
    "sdg.fit(X_train, y_train)\n",
    "\n",
    "# Predicting results using Test data set\n",
    "pred = sdg.predict(X_test)\n",
    "print(classification_report(y_test, pred))\n",
    "score = accuracy_score(pred,y_test)\n",
    "print('Accuracy of Stochastic Gradient Descent classifier on test set: {:.6f}'.format(score))"
   ]
  },
  {
   "cell_type": "markdown",
   "metadata": {},
   "source": [
    "**2.4 K-Nearest Neighbours**"
   ]
  },
  {
   "cell_type": "code",
   "execution_count": 36,
   "metadata": {},
   "outputs": [
    {
     "name": "stdout",
     "output_type": "stream",
     "text": [
      "              precision    recall  f1-score   support\n",
      "\n",
      "           1       0.93      0.84      0.89      4037\n",
      "           2       0.93      0.96      0.95     15188\n",
      "           3       0.92      0.92      0.92      7540\n",
      "           4       0.93      0.92      0.92      7277\n",
      "           5       0.93      0.89      0.91      5297\n",
      "           6       0.93      0.94      0.94     10136\n",
      "           7       0.93      0.91      0.92      7824\n",
      "           8       0.93      0.96      0.95     14320\n",
      "           9       0.93      0.93      0.93      8359\n",
      "\n",
      "    accuracy                           0.93     79978\n",
      "   macro avg       0.93      0.92      0.92     79978\n",
      "weighted avg       0.93      0.93      0.93     79978\n",
      "\n",
      "Accuracy of K-NN classifier on test set: 0.931919\n"
     ]
    }
   ],
   "source": [
    "# Classifier: K-Nearest Neighbours\n",
    "knn = KNeighborsClassifier()\n",
    "knn.fit(X_train, y_train)\n",
    "\n",
    "# Predicting results using Test data set\n",
    "pred = knn.predict(X_test)\n",
    "print(classification_report(y_test, pred))\n",
    "score = accuracy_score(pred,y_test)\n",
    "print('Accuracy of K-NN classifier on test set: {:.6f}'.format(score))"
   ]
  },
  {
   "cell_type": "markdown",
   "metadata": {},
   "source": [
    "**2.5 Decision Tree**"
   ]
  },
  {
   "cell_type": "code",
   "execution_count": 37,
   "metadata": {},
   "outputs": [
    {
     "name": "stdout",
     "output_type": "stream",
     "text": [
      "              precision    recall  f1-score   support\n",
      "\n",
      "           1       0.93      0.84      0.89      4037\n",
      "           2       0.93      0.96      0.95     15188\n",
      "           3       0.94      0.92      0.93      7540\n",
      "           4       0.93      0.92      0.92      7277\n",
      "           5       0.93      0.89      0.91      5297\n",
      "           6       0.93      0.94      0.94     10136\n",
      "           7       0.94      0.92      0.93      7824\n",
      "           8       0.93      0.96      0.95     14320\n",
      "           9       0.93      0.93      0.93      8359\n",
      "\n",
      "    accuracy                           0.93     79978\n",
      "   macro avg       0.93      0.92      0.93     79978\n",
      "weighted avg       0.93      0.93      0.93     79978\n",
      "\n",
      "Accuracy of Decision Tree classifier on test set: 0.933044\n"
     ]
    }
   ],
   "source": [
    "# Classifier: Decision Tree\n",
    "clf = DecisionTreeClassifier()\n",
    "clf.fit(X_train, y_train)\n",
    "\n",
    "# Predicting results using Test data set\n",
    "pred = clf.predict(X_test)\n",
    "print(classification_report(y_test, pred))\n",
    "score = accuracy_score(pred,y_test)\n",
    "print('Accuracy of Decision Tree classifier on test set: {:.6f}'.format(score))"
   ]
  },
  {
   "cell_type": "markdown",
   "metadata": {},
   "source": [
    "**2.6 Random Forest**"
   ]
  },
  {
   "cell_type": "code",
   "execution_count": 38,
   "metadata": {},
   "outputs": [
    {
     "name": "stdout",
     "output_type": "stream",
     "text": [
      "              precision    recall  f1-score   support\n",
      "\n",
      "           1       0.93      0.84      0.89      4037\n",
      "           2       0.93      0.96      0.95     15188\n",
      "           3       0.94      0.92      0.93      7540\n",
      "           4       0.93      0.92      0.92      7277\n",
      "           5       0.93      0.89      0.91      5297\n",
      "           6       0.93      0.94      0.94     10136\n",
      "           7       0.94      0.92      0.93      7824\n",
      "           8       0.93      0.96      0.95     14320\n",
      "           9       0.93      0.93      0.93      8359\n",
      "\n",
      "    accuracy                           0.93     79978\n",
      "   macro avg       0.93      0.92      0.93     79978\n",
      "weighted avg       0.93      0.93      0.93     79978\n",
      "\n",
      "Accuracy of Random Forest classifier on test set: 0.933044\n"
     ]
    }
   ],
   "source": [
    "# Classifier: Random Forest\n",
    "rfm = RandomForestClassifier()\n",
    "rfm.fit(X_train, y_train)\n",
    "\n",
    "# Predicting results using Test data set\n",
    "pred = rfm.predict(X_test)\n",
    "print(classification_report(y_test, pred))\n",
    "score = accuracy_score(pred,y_test)\n",
    "print('Accuracy of Random Forest classifier on test set: {:.6f}'.format(score))"
   ]
  },
  {
   "cell_type": "markdown",
   "metadata": {},
   "source": [
    "**2.7 Support Vector Machine**"
   ]
  },
  {
   "cell_type": "code",
   "execution_count": 39,
   "metadata": {},
   "outputs": [
    {
     "name": "stdout",
     "output_type": "stream",
     "text": [
      "              precision    recall  f1-score   support\n",
      "\n",
      "           1       0.93      0.84      0.89      4037\n",
      "           2       0.93      0.96      0.95     15188\n",
      "           3       0.94      0.87      0.90      7540\n",
      "           4       0.89      0.92      0.90      7277\n",
      "           5       0.93      0.89      0.91      5297\n",
      "           6       0.93      0.93      0.93     10136\n",
      "           7       0.94      0.92      0.93      7824\n",
      "           8       0.90      0.95      0.93     14320\n",
      "           9       0.93      0.93      0.93      8359\n",
      "\n",
      "    accuracy                           0.92     79978\n",
      "   macro avg       0.92      0.91      0.92     79978\n",
      "weighted avg       0.92      0.92      0.92     79978\n",
      "\n",
      "Accuracy of SVM classifier on test set: 0.923404\n"
     ]
    }
   ],
   "source": [
    "# Classifier: Support Vector Machine\n",
    "svm = SVC()\n",
    "svm.fit(X_train, y_train)\n",
    "\n",
    "# Predicting results using Test data set\n",
    "pred = svm.predict(X_test)\n",
    "print(classification_report(y_test, pred))\n",
    "score = accuracy_score(pred,y_test)\n",
    "print('Accuracy of SVM classifier on test set: {:.6f}'.format(score))"
   ]
  },
  {
   "cell_type": "markdown",
   "metadata": {
    "id": "dPyIMtSJcufE"
   },
   "source": [
    "# **V. Conclusion**"
   ]
  },
  {
   "cell_type": "markdown",
   "metadata": {},
   "source": [
    "**Comparison Matrix**"
   ]
  },
  {
   "cell_type": "markdown",
   "metadata": {},
   "source": [
    "* **Accuracy: (True Positive + True Negative) / Total Population**\n",
    " - Accuracy is a ratio of correctly predicted observation to the total observations. Accuracy is the most intuitive performance measure.\n",
    " - True Positive: The number of correct predictions that the occurrence is positive\n",
    " - True Negative: The number of correct predictions that the occurrence is negative\n",
    " \n",
    "* **F1-Score: (2 x Precision x Recall) / (Precision + Recall)**\n",
    " - F1-Score is the weighted average of Precision and Recall used in all types of classification algorithms. Therefore, this score takes both false positives and false negatives into account. F1-Score is usually more useful than accuracy, especially if you have an uneven class distribution.\n",
    " - Precision: How often is the prediction correct When a positive value is predicted\n",
    " - Recall: How often is the prediction correct When the actual value is positive"
   ]
  },
  {
   "cell_type": "markdown",
   "metadata": {},
   "source": [
    "<table align='left'>\n",
    "<tbody>\n",
    "<tr>\n",
    "<td width=\"180\"><strong>Classification Algorithms</strong></td>\n",
    "<td width=\"150\"><strong>Accuracy</strong></td>\n",
    "<td width=\"150\"><strong>F1-Score</strong></td>\n",
    "</tr>\n",
    "<tr>\n",
    "<td width=\"180\">Logistic Regression</td>\n",
    "<td width=\"150\">0.258033</td>\n",
    "<td width=\"150\">0.26</td>\n",
    "</tr>\n",
    "<tr>\n",
    "<td width=\"180\">Naïve Bayes</td>\n",
    "<td width=\"150\">0.268036</td>\n",
    "<td width=\"150\">0.27</td>\n",
    "</tr>\n",
    "<tr>\n",
    "<td width=\"180\">Stochastic Gradient Descent</td>\n",
    "<td width=\"150\">0.231439</td>\n",
    "<td width=\"150\">0.23</td>\n",
    "</tr>\n",
    "<tr>\n",
    "<td width=\"150\">K-Nearest Neighbours</td>\n",
    "<td width=\"150\">0.931919</td>\n",
    "<td width=\"150\">0.93</td>\n",
    "</tr>\n",
    "<tr>\n",
    "<td width=\"180\">Decision Tree</td>\n",
    "<td width=\"150\">0.933044</td>\n",
    "<td width=\"150\">0.93</td>\n",
    "</tr>\n",
    "<tr>\n",
    "<td width=\"180\">Random Forest</td>\n",
    "<td width=\"150\">0.933044</td>\n",
    "<td width=\"150\">0.93</td>\n",
    "</tr>\n",
    "<tr>\n",
    "<td width=\"180\">Support Vector Machine</td>\n",
    "<td width=\"150\">0.923404</td>\n",
    "<td width=\"150\">0.92</td>\n",
    "</tr>\n",
    "</tbody>\n",
    "</table>"
   ]
  },
  {
   "cell_type": "markdown",
   "metadata": {},
   "source": [
    "**We can see from our test that Decision Tree and Random Forest are the most accurate models to predict side effects based on age, gender and race.**"
   ]
  },
  {
   "cell_type": "code",
   "execution_count": null,
   "metadata": {},
   "outputs": [],
   "source": []
  }
 ],
 "metadata": {
  "colab": {
   "authorship_tag": "ABX9TyOqB1Em/eEpwYega16vslVX",
   "collapsed_sections": [],
   "include_colab_link": true,
   "mount_file_id": "1MadsZS3yDMMaIPFMss6xPlEnsYVnfnNB",
   "name": "Classification_Model_For_Drug_Side_Effects.ipynb",
   "provenance": []
  },
  "kernelspec": {
   "display_name": "Python 3 (ipykernel)",
   "language": "python",
   "name": "python3"
  },
  "language_info": {
   "codemirror_mode": {
    "name": "ipython",
    "version": 3
   },
   "file_extension": ".py",
   "mimetype": "text/x-python",
   "name": "python",
   "nbconvert_exporter": "python",
   "pygments_lexer": "ipython3",
   "version": "3.10.6"
  }
 },
 "nbformat": 4,
 "nbformat_minor": 1
}
